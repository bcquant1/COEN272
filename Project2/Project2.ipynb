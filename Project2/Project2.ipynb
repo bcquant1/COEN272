{
 "cells": [
  {
   "cell_type": "markdown",
   "metadata": {},
   "source": [
    "# COEN 272 Project 2: Movie Recommendation\n",
    "Brandon Quant"
   ]
  },
  {
   "cell_type": "code",
   "execution_count": 1,
   "metadata": {},
   "outputs": [],
   "source": [
    "import pandas as pd\n",
    "import numpy as np\n",
    "import math"
   ]
  },
  {
   "cell_type": "markdown",
   "metadata": {},
   "source": [
    "# Cosine Similarity"
   ]
  },
  {
   "cell_type": "code",
   "execution_count": 2,
   "metadata": {},
   "outputs": [],
   "source": [
    "df = pd.read_csv('train.txt', sep=\"\\t\", header=None)"
   ]
  },
  {
   "cell_type": "code",
   "execution_count": 3,
   "metadata": {},
   "outputs": [
    {
     "data": {
      "text/html": [
       "<div>\n",
       "<style scoped>\n",
       "    .dataframe tbody tr th:only-of-type {\n",
       "        vertical-align: middle;\n",
       "    }\n",
       "\n",
       "    .dataframe tbody tr th {\n",
       "        vertical-align: top;\n",
       "    }\n",
       "\n",
       "    .dataframe thead th {\n",
       "        text-align: right;\n",
       "    }\n",
       "</style>\n",
       "<table border=\"1\" class=\"dataframe\">\n",
       "  <thead>\n",
       "    <tr style=\"text-align: right;\">\n",
       "      <th></th>\n",
       "      <th>0</th>\n",
       "      <th>1</th>\n",
       "      <th>2</th>\n",
       "      <th>3</th>\n",
       "      <th>4</th>\n",
       "      <th>5</th>\n",
       "      <th>6</th>\n",
       "      <th>7</th>\n",
       "      <th>8</th>\n",
       "      <th>9</th>\n",
       "      <th>...</th>\n",
       "      <th>990</th>\n",
       "      <th>991</th>\n",
       "      <th>992</th>\n",
       "      <th>993</th>\n",
       "      <th>994</th>\n",
       "      <th>995</th>\n",
       "      <th>996</th>\n",
       "      <th>997</th>\n",
       "      <th>998</th>\n",
       "      <th>999</th>\n",
       "    </tr>\n",
       "  </thead>\n",
       "  <tbody>\n",
       "    <tr>\n",
       "      <th>0</th>\n",
       "      <td>5</td>\n",
       "      <td>3</td>\n",
       "      <td>0</td>\n",
       "      <td>3</td>\n",
       "      <td>3</td>\n",
       "      <td>5</td>\n",
       "      <td>0</td>\n",
       "      <td>1</td>\n",
       "      <td>5</td>\n",
       "      <td>3</td>\n",
       "      <td>...</td>\n",
       "      <td>0</td>\n",
       "      <td>0</td>\n",
       "      <td>0</td>\n",
       "      <td>0</td>\n",
       "      <td>0</td>\n",
       "      <td>0</td>\n",
       "      <td>0</td>\n",
       "      <td>0</td>\n",
       "      <td>0</td>\n",
       "      <td>0</td>\n",
       "    </tr>\n",
       "    <tr>\n",
       "      <th>1</th>\n",
       "      <td>4</td>\n",
       "      <td>0</td>\n",
       "      <td>0</td>\n",
       "      <td>0</td>\n",
       "      <td>0</td>\n",
       "      <td>0</td>\n",
       "      <td>0</td>\n",
       "      <td>0</td>\n",
       "      <td>0</td>\n",
       "      <td>2</td>\n",
       "      <td>...</td>\n",
       "      <td>0</td>\n",
       "      <td>0</td>\n",
       "      <td>0</td>\n",
       "      <td>0</td>\n",
       "      <td>0</td>\n",
       "      <td>0</td>\n",
       "      <td>0</td>\n",
       "      <td>0</td>\n",
       "      <td>0</td>\n",
       "      <td>0</td>\n",
       "    </tr>\n",
       "    <tr>\n",
       "      <th>2</th>\n",
       "      <td>0</td>\n",
       "      <td>0</td>\n",
       "      <td>0</td>\n",
       "      <td>0</td>\n",
       "      <td>0</td>\n",
       "      <td>0</td>\n",
       "      <td>0</td>\n",
       "      <td>0</td>\n",
       "      <td>0</td>\n",
       "      <td>0</td>\n",
       "      <td>...</td>\n",
       "      <td>0</td>\n",
       "      <td>0</td>\n",
       "      <td>0</td>\n",
       "      <td>0</td>\n",
       "      <td>0</td>\n",
       "      <td>0</td>\n",
       "      <td>0</td>\n",
       "      <td>0</td>\n",
       "      <td>0</td>\n",
       "      <td>0</td>\n",
       "    </tr>\n",
       "    <tr>\n",
       "      <th>3</th>\n",
       "      <td>0</td>\n",
       "      <td>0</td>\n",
       "      <td>0</td>\n",
       "      <td>0</td>\n",
       "      <td>0</td>\n",
       "      <td>0</td>\n",
       "      <td>0</td>\n",
       "      <td>0</td>\n",
       "      <td>0</td>\n",
       "      <td>0</td>\n",
       "      <td>...</td>\n",
       "      <td>0</td>\n",
       "      <td>0</td>\n",
       "      <td>0</td>\n",
       "      <td>0</td>\n",
       "      <td>0</td>\n",
       "      <td>0</td>\n",
       "      <td>0</td>\n",
       "      <td>0</td>\n",
       "      <td>0</td>\n",
       "      <td>0</td>\n",
       "    </tr>\n",
       "    <tr>\n",
       "      <th>4</th>\n",
       "      <td>4</td>\n",
       "      <td>3</td>\n",
       "      <td>0</td>\n",
       "      <td>0</td>\n",
       "      <td>0</td>\n",
       "      <td>0</td>\n",
       "      <td>0</td>\n",
       "      <td>0</td>\n",
       "      <td>0</td>\n",
       "      <td>0</td>\n",
       "      <td>...</td>\n",
       "      <td>0</td>\n",
       "      <td>0</td>\n",
       "      <td>0</td>\n",
       "      <td>0</td>\n",
       "      <td>0</td>\n",
       "      <td>0</td>\n",
       "      <td>0</td>\n",
       "      <td>0</td>\n",
       "      <td>0</td>\n",
       "      <td>0</td>\n",
       "    </tr>\n",
       "    <tr>\n",
       "      <th>...</th>\n",
       "      <td>...</td>\n",
       "      <td>...</td>\n",
       "      <td>...</td>\n",
       "      <td>...</td>\n",
       "      <td>...</td>\n",
       "      <td>...</td>\n",
       "      <td>...</td>\n",
       "      <td>...</td>\n",
       "      <td>...</td>\n",
       "      <td>...</td>\n",
       "      <td>...</td>\n",
       "      <td>...</td>\n",
       "      <td>...</td>\n",
       "      <td>...</td>\n",
       "      <td>...</td>\n",
       "      <td>...</td>\n",
       "      <td>...</td>\n",
       "      <td>...</td>\n",
       "      <td>...</td>\n",
       "      <td>...</td>\n",
       "      <td>...</td>\n",
       "    </tr>\n",
       "    <tr>\n",
       "      <th>195</th>\n",
       "      <td>0</td>\n",
       "      <td>0</td>\n",
       "      <td>0</td>\n",
       "      <td>0</td>\n",
       "      <td>0</td>\n",
       "      <td>0</td>\n",
       "      <td>0</td>\n",
       "      <td>5</td>\n",
       "      <td>0</td>\n",
       "      <td>0</td>\n",
       "      <td>...</td>\n",
       "      <td>0</td>\n",
       "      <td>0</td>\n",
       "      <td>0</td>\n",
       "      <td>0</td>\n",
       "      <td>0</td>\n",
       "      <td>0</td>\n",
       "      <td>0</td>\n",
       "      <td>0</td>\n",
       "      <td>0</td>\n",
       "      <td>0</td>\n",
       "    </tr>\n",
       "    <tr>\n",
       "      <th>196</th>\n",
       "      <td>0</td>\n",
       "      <td>3</td>\n",
       "      <td>0</td>\n",
       "      <td>3</td>\n",
       "      <td>0</td>\n",
       "      <td>0</td>\n",
       "      <td>0</td>\n",
       "      <td>0</td>\n",
       "      <td>0</td>\n",
       "      <td>0</td>\n",
       "      <td>...</td>\n",
       "      <td>0</td>\n",
       "      <td>0</td>\n",
       "      <td>0</td>\n",
       "      <td>0</td>\n",
       "      <td>0</td>\n",
       "      <td>0</td>\n",
       "      <td>0</td>\n",
       "      <td>0</td>\n",
       "      <td>0</td>\n",
       "      <td>0</td>\n",
       "    </tr>\n",
       "    <tr>\n",
       "      <th>197</th>\n",
       "      <td>4</td>\n",
       "      <td>0</td>\n",
       "      <td>0</td>\n",
       "      <td>3</td>\n",
       "      <td>0</td>\n",
       "      <td>2</td>\n",
       "      <td>4</td>\n",
       "      <td>0</td>\n",
       "      <td>0</td>\n",
       "      <td>0</td>\n",
       "      <td>...</td>\n",
       "      <td>0</td>\n",
       "      <td>0</td>\n",
       "      <td>0</td>\n",
       "      <td>0</td>\n",
       "      <td>0</td>\n",
       "      <td>0</td>\n",
       "      <td>0</td>\n",
       "      <td>0</td>\n",
       "      <td>0</td>\n",
       "      <td>0</td>\n",
       "    </tr>\n",
       "    <tr>\n",
       "      <th>198</th>\n",
       "      <td>1</td>\n",
       "      <td>0</td>\n",
       "      <td>0</td>\n",
       "      <td>0</td>\n",
       "      <td>0</td>\n",
       "      <td>0</td>\n",
       "      <td>4</td>\n",
       "      <td>0</td>\n",
       "      <td>5</td>\n",
       "      <td>0</td>\n",
       "      <td>...</td>\n",
       "      <td>0</td>\n",
       "      <td>0</td>\n",
       "      <td>0</td>\n",
       "      <td>0</td>\n",
       "      <td>0</td>\n",
       "      <td>0</td>\n",
       "      <td>0</td>\n",
       "      <td>0</td>\n",
       "      <td>0</td>\n",
       "      <td>0</td>\n",
       "    </tr>\n",
       "    <tr>\n",
       "      <th>199</th>\n",
       "      <td>5</td>\n",
       "      <td>4</td>\n",
       "      <td>0</td>\n",
       "      <td>0</td>\n",
       "      <td>0</td>\n",
       "      <td>0</td>\n",
       "      <td>4</td>\n",
       "      <td>4</td>\n",
       "      <td>4</td>\n",
       "      <td>0</td>\n",
       "      <td>...</td>\n",
       "      <td>0</td>\n",
       "      <td>0</td>\n",
       "      <td>0</td>\n",
       "      <td>0</td>\n",
       "      <td>0</td>\n",
       "      <td>0</td>\n",
       "      <td>0</td>\n",
       "      <td>0</td>\n",
       "      <td>0</td>\n",
       "      <td>0</td>\n",
       "    </tr>\n",
       "  </tbody>\n",
       "</table>\n",
       "<p>200 rows × 1000 columns</p>\n",
       "</div>"
      ],
      "text/plain": [
       "     0    1    2    3    4    5    6    7    8    9    ...  990  991  992  \\\n",
       "0      5    3    0    3    3    5    0    1    5    3  ...    0    0    0   \n",
       "1      4    0    0    0    0    0    0    0    0    2  ...    0    0    0   \n",
       "2      0    0    0    0    0    0    0    0    0    0  ...    0    0    0   \n",
       "3      0    0    0    0    0    0    0    0    0    0  ...    0    0    0   \n",
       "4      4    3    0    0    0    0    0    0    0    0  ...    0    0    0   \n",
       "..   ...  ...  ...  ...  ...  ...  ...  ...  ...  ...  ...  ...  ...  ...   \n",
       "195    0    0    0    0    0    0    0    5    0    0  ...    0    0    0   \n",
       "196    0    3    0    3    0    0    0    0    0    0  ...    0    0    0   \n",
       "197    4    0    0    3    0    2    4    0    0    0  ...    0    0    0   \n",
       "198    1    0    0    0    0    0    4    0    5    0  ...    0    0    0   \n",
       "199    5    4    0    0    0    0    4    4    4    0  ...    0    0    0   \n",
       "\n",
       "     993  994  995  996  997  998  999  \n",
       "0      0    0    0    0    0    0    0  \n",
       "1      0    0    0    0    0    0    0  \n",
       "2      0    0    0    0    0    0    0  \n",
       "3      0    0    0    0    0    0    0  \n",
       "4      0    0    0    0    0    0    0  \n",
       "..   ...  ...  ...  ...  ...  ...  ...  \n",
       "195    0    0    0    0    0    0    0  \n",
       "196    0    0    0    0    0    0    0  \n",
       "197    0    0    0    0    0    0    0  \n",
       "198    0    0    0    0    0    0    0  \n",
       "199    0    0    0    0    0    0    0  \n",
       "\n",
       "[200 rows x 1000 columns]"
      ]
     },
     "execution_count": 3,
     "metadata": {},
     "output_type": "execute_result"
    }
   ],
   "source": [
    "df"
   ]
  },
  {
   "cell_type": "code",
   "execution_count": 4,
   "metadata": {},
   "outputs": [],
   "source": [
    "'''\n",
    "Calculates the cosine similarity between two vectors and deals with the following conditions:\n",
    "    -If there is only 1 dimension that is similar between the two users, calculate the similarity by taking the\n",
    "     euclidean distance and then taking the inverse\n",
    "    -If there is no similar dimenions between users, the simliarity is 0\n",
    "'''\n",
    "def cos_sim(v1, v2):\n",
    "    v1_new = []\n",
    "    v2_new = []\n",
    "    for index in range(len(v1)):\n",
    "        if v1[index] != 0 and v2[index] != 0:\n",
    "            v1_new.append(v1[index])\n",
    "            v2_new.append(v2[index])\n",
    "    if(len(v1_new) == 0 and len(v2_new) == 0):\n",
    "        #print(\"NO COMMON RATINGS\\n\")\n",
    "        sim = 0;\n",
    "        return sim;\n",
    "    \n",
    "    if(len(v1_new) == 1 and len(v2_new) == 1):\n",
    "        euclidean_distance = np.linalg.norm(v1_new[0]-v2_new[0]);\n",
    "        sim = 1/(1+euclidean_distance)\n",
    "        return sim\n",
    "    \n",
    "    numerator = np.dot(v1_new,v2_new)\n",
    "    v_norm_v1 = np.sqrt(np.sum(np.square(v1_new)))\n",
    "    v_norm_v2 = np.sqrt(np.sum(np.square(v2_new)))\n",
    "    sim = numerator/(v_norm_v1 * v_norm_v2)\n",
    "    return sim"
   ]
  },
  {
   "cell_type": "code",
   "execution_count": 5,
   "metadata": {},
   "outputs": [
    {
     "name": "stdout",
     "output_type": "stream",
     "text": [
      "[[5 3 0 ... 0 0 0]\n",
      " [4 0 0 ... 0 0 0]\n",
      " [0 0 0 ... 0 0 0]\n",
      " ...\n",
      " [4 0 0 ... 0 0 0]\n",
      " [1 0 0 ... 0 0 0]\n",
      " [5 4 0 ... 0 0 0]]\n",
      "(200, 1000)\n"
     ]
    }
   ],
   "source": [
    "arr = df.to_numpy()\n",
    "print(arr)\n",
    "print(arr.shape)"
   ]
  },
  {
   "cell_type": "code",
   "execution_count": 6,
   "metadata": {},
   "outputs": [],
   "source": [
    "test5 = pd.read_csv('test5.txt', sep=\" \", header=None)\n",
    "test10 = pd.read_csv('test10.txt', sep=\" \", header=None)\n",
    "test20 = pd.read_csv('test20.txt', sep=\" \", header=None)"
   ]
  },
  {
   "cell_type": "code",
   "execution_count": 7,
   "metadata": {},
   "outputs": [],
   "source": [
    "'''\n",
    "Creates the 1x1000 list for each of the active users to match the dimensions of the training data lists\n",
    "Matrix Dimensions: 100x1000\n",
    "'''\n",
    "def create_arr_for_new_users(num_ratings, test_file):\n",
    "    init_ratings = [0] * 1000\n",
    "    test_users = {}\n",
    "    ratings = init_ratings\n",
    "    counter = 0\n",
    "    for index,row in test_file.iterrows():\n",
    "        if row[2] == 0:\n",
    "            continue;\n",
    "        #print(row[0], row[1], row[2])\n",
    "        user = row[0]\n",
    "        index = row[1]-1\n",
    "        rating = row[2]\n",
    "        ratings[index] = rating\n",
    "        counter += 1\n",
    "        if counter == num_ratings:\n",
    "            test_users[user] = ratings\n",
    "            ratings = [0] * 1000\n",
    "            counter = 0\n",
    "    return test_users\n",
    "\n",
    "'''\n",
    "Helper functions to print out the dimensiosn and movies rated for each test user\n",
    "'''\n",
    "def print_dimensions_test_arr(test_arr, starting_user_id):\n",
    "    print(\"Rows: \" + str(len(test_arr)) + \", Columns: \" + str(len(test_arr[starting_user_id])))\n",
    "    \n",
    "def print_rankings_test_arr(test_arr):\n",
    "    for key in test_arr:\n",
    "        print(\"New User: \" + str(key))\n",
    "        for index,rating in enumerate(test_arr[key]):\n",
    "            if rating != 0:\n",
    "                print(\"Movie \" + str(index+1) + \": \" + str(rating))\n",
    "        print(\"\\n\")\n",
    "\n",
    "def print_users_dict(test_arr):\n",
    "    for key in test_arr:\n",
    "        print(key, \"->\", test_arr[key], \"\\n\")\n",
    "        \n",
    "def print_movie_ratings(arr):\n",
    "    for index, val in enumerate(arr):\n",
    "        if val != 0:\n",
    "            print(\"Movie: \" + str(index) + \", Rating: \" + str(val))"
   ]
  },
  {
   "cell_type": "code",
   "execution_count": 8,
   "metadata": {},
   "outputs": [],
   "source": [
    "test5_user_arr = create_arr_for_new_users(5, test5)\n",
    "test10_user_arr = create_arr_for_new_users(10, test10)\n",
    "test20_user_arr = create_arr_for_new_users(20, test20)"
   ]
  },
  {
   "cell_type": "code",
   "execution_count": 9,
   "metadata": {},
   "outputs": [
    {
     "name": "stdout",
     "output_type": "stream",
     "text": [
      "Rows: 100, Columns: 1000\n",
      "Rows: 100, Columns: 1000\n",
      "Rows: 100, Columns: 1000\n"
     ]
    }
   ],
   "source": [
    "print_dimensions_test_arr(test5_user_arr, 201)\n",
    "print_dimensions_test_arr(test10_user_arr, 301)\n",
    "print_dimensions_test_arr(test20_user_arr, 401)"
   ]
  },
  {
   "cell_type": "code",
   "execution_count": 10,
   "metadata": {},
   "outputs": [],
   "source": [
    "'''\n",
    "Calculating the cosine similarity for each active user with every single user in the training data. \n",
    "Row 0 is the list of similarities between active user 201 with users 1-200\n",
    "Matrix Dimensions: 100x200\n",
    "'''\n",
    "def create_cos_sim_matrix(matrix, users_arr, training_arr):\n",
    "    count = 0\n",
    "    matrix = []\n",
    "    vals = []\n",
    "    for key in users_arr:\n",
    "        for row in training_arr:\n",
    "            cos_sim_value = cos_sim(users_arr[key],row)\n",
    "            vals.append(cos_sim_value)\n",
    "            count += 1\n",
    "            if count == 200:\n",
    "                matrix.append(vals)\n",
    "                vals = []\n",
    "                count = 0\n",
    "    return matrix\n",
    "\n",
    "def print_matrix_dimensions(matrix):\n",
    "    print(\"Rows: \" + str(len(matrix)))\n",
    "    print(\"Columns: \" + str(len(matrix[0])) + \"\\n\")"
   ]
  },
  {
   "cell_type": "code",
   "execution_count": 11,
   "metadata": {},
   "outputs": [],
   "source": [
    "cos_sim_matrix_5 = pd.DataFrame()\n",
    "cos_sim_matrix_10 = pd.DataFrame()\n",
    "cos_sim_matrix_20 = pd.DataFrame()\n",
    "cos_sim_matrix_5 = create_cos_sim_matrix(cos_sim_matrix_5, test5_user_arr, arr)\n",
    "cos_sim_matrix_10 = create_cos_sim_matrix(cos_sim_matrix_10, test10_user_arr, arr)\n",
    "cos_sim_matrix_20 = create_cos_sim_matrix(cos_sim_matrix_20, test20_user_arr, arr)"
   ]
  },
  {
   "cell_type": "code",
   "execution_count": 12,
   "metadata": {},
   "outputs": [
    {
     "name": "stdout",
     "output_type": "stream",
     "text": [
      "Rows: 100\n",
      "Columns: 200\n",
      "\n",
      "Rows: 100\n",
      "Columns: 200\n",
      "\n",
      "Rows: 100\n",
      "Columns: 200\n",
      "\n"
     ]
    }
   ],
   "source": [
    "print_matrix_dimensions(cos_sim_matrix_5)\n",
    "print_matrix_dimensions(cos_sim_matrix_10)\n",
    "print_matrix_dimensions(cos_sim_matrix_20)"
   ]
  },
  {
   "cell_type": "code",
   "execution_count": 13,
   "metadata": {},
   "outputs": [
    {
     "name": "stdout",
     "output_type": "stream",
     "text": [
      "Rows: 100, Cols: 200\n",
      "Rows: 100, Cols: 200\n",
      "Rows: 100, Cols: 200\n"
     ]
    }
   ],
   "source": [
    "'''\n",
    "Returns the list of matrix of indexes with the highest cosine similarity in ascending order\n",
    "Matrix dimensions: 100x200\n",
    "'''\n",
    "def index_k_most_similar(matrix):\n",
    "    max_index = []\n",
    "    abs_cos_sim = []\n",
    "    for index,users in enumerate(matrix):\n",
    "        for cos_sim_val in users:\n",
    "            abs_cos_sim.append(abs(cos_sim_val))\n",
    "        #print(abs_cos_sim)\n",
    "        val = np.argsort(abs_cos_sim)[-200:]\n",
    "        max_index.append(val.tolist())\n",
    "        abs_cos_sim = []\n",
    "    return max_index\n",
    "   \n",
    "k_most_similar_indexes_5 = index_k_most_similar(cos_sim_matrix_5)\n",
    "k_most_similar_indexes_10 = index_k_most_similar(cos_sim_matrix_10)\n",
    "k_most_similar_indexes_20 = index_k_most_similar(cos_sim_matrix_20)\n",
    "\n",
    "print(\"Rows: \" + str(len(k_most_similar_indexes_5)) + \", Cols: \" + str(len(k_most_similar_indexes_5[0])))\n",
    "print(\"Rows: \" + str(len(k_most_similar_indexes_10)) + \", Cols: \" + str(len(k_most_similar_indexes_10[0])))\n",
    "print(\"Rows: \" + str(len(k_most_similar_indexes_5)) + \", Cols: \" + str(len(k_most_similar_indexes_10[0])))"
   ]
  },
  {
   "cell_type": "code",
   "execution_count": 14,
   "metadata": {},
   "outputs": [
    {
     "name": "stdout",
     "output_type": "stream",
     "text": [
      "[99, 132, 131, 130, 128, 126, 125, 123, 122, 121, 113, 110, 109, 106, 105, 104, 102, 101, 97, 96, 95, 92, 90, 87, 86, 85, 82, 76, 75, 71, 133, 137, 138, 139, 196, 194, 191, 190, 189, 186, 182, 179, 178, 174, 171, 169, 168, 167, 69, 165, 162, 160, 157, 155, 154, 153, 152, 150, 148, 147, 146, 145, 142, 141, 164, 66, 199, 34, 48, 50, 40, 39, 37, 52, 36, 54, 35, 33, 32, 29, 28, 59, 24, 27, 60, 64, 2, 4, 7, 22, 11, 18, 8, 20, 21, 45, 156, 188, 170, 30, 5, 38, 115, 149, 124, 117, 197, 31, 0, 81, 93, 70, 198, 49, 94, 55, 26, 58, 84, 151, 19, 158, 15, 77, 176, 9, 181, 6, 187, 72, 193, 195, 17, 134, 46, 47, 107, 119, 112, 118, 120, 43, 100, 144, 74, 114, 91, 16, 180, 44, 143, 108, 175, 159, 62, 12, 163, 103, 63, 88, 53, 80, 57, 61, 129, 185, 56, 65, 135, 67, 98, 23, 51, 68, 25, 14, 1, 41, 89, 136, 111, 192, 3, 140, 73, 127, 166, 183, 116, 83, 79, 177, 78, 161, 10, 173, 172, 42, 13, 184] \n",
      "\n",
      "[70, 189, 54, 186, 30, 77, 79, 142, 141, 35, 31, 102, 107, 121, 120, 182, 171, 45, 118, 87, 137, 166, 28, 154, 111, 155, 185, 190, 69, 88, 92, 26, 131, 181, 44, 132, 82, 49, 74, 149, 3, 114, 161, 163, 97, 191, 178, 169, 2, 148, 14, 139, 128, 89, 173, 192, 187, 71, 17, 195, 83, 72, 23, 198, 64, 10, 75, 188, 138, 81, 8, 80, 153, 84, 162, 5, 67, 164, 51, 150, 143, 58, 59, 62, 112, 6, 61, 48, 56, 179, 199, 93, 193, 90, 119, 78, 122, 105, 33, 172, 156, 183, 11, 177, 152, 130, 176, 40, 25, 104, 197, 140, 95, 42, 29, 170, 99, 113, 94, 12, 174, 57, 15, 41, 124, 127, 129, 157, 63, 86, 133, 180, 109, 1, 39, 151, 134, 16, 144, 108, 115, 101, 21, 76, 116, 27, 68, 167, 47, 85, 24, 0, 55, 37, 175, 106, 196, 160, 50, 22, 136, 98, 4, 13, 91, 9, 34, 168, 117, 110, 159, 53, 158, 7, 43, 147, 103, 126, 36, 96, 184, 135, 165, 125, 194, 52, 100, 60, 20, 46, 145, 146, 73, 66, 32, 38, 18, 19, 123, 65] \n",
      "\n",
      "[165, 38, 39, 172, 170, 45, 46, 49, 106, 164, 162, 60, 152, 68, 147, 35, 146, 139, 135, 85, 132, 87, 88, 131, 130, 92, 128, 126, 198, 111, 104, 145, 33, 107, 178, 8, 190, 26, 27, 32, 181, 3, 29, 30, 16, 31, 185, 169, 133, 142, 120, 112, 50, 97, 119, 73, 51, 79, 141, 72, 34, 195, 122, 100, 1, 110, 191, 148, 184, 99, 66, 65, 182, 40, 47, 62, 153, 18, 155, 56, 159, 160, 37, 192, 67, 167, 48, 193, 186, 12, 81, 82, 41, 196, 22, 20, 23, 75, 180, 197, 5, 115, 36, 74, 89, 64, 177, 6, 199, 61, 0, 143, 101, 189, 136, 124, 109, 179, 84, 129, 163, 98, 4, 194, 116, 58, 57, 176, 90, 71, 93, 11, 150, 105, 144, 59, 117, 114, 70, 158, 43, 9, 174, 171, 113, 55, 24, 137, 63, 183, 7, 161, 83, 156, 19, 108, 17, 94, 21, 86, 118, 91, 173, 42, 76, 25, 69, 52, 168, 13, 157, 53, 15, 14, 140, 96, 187, 44, 166, 188, 95, 2, 78, 77, 102, 138, 121, 149, 125, 151, 103, 134, 127, 54, 80, 175, 123, 28, 154, 10] \n",
      "\n"
     ]
    }
   ],
   "source": [
    "print(k_most_similar_indexes_5[0], \"\\n\")\n",
    "print(k_most_similar_indexes_10[0], \"\\n\")\n",
    "print(k_most_similar_indexes_20[0], \"\\n\")"
   ]
  },
  {
   "cell_type": "markdown",
   "metadata": {},
   "source": [
    "# Calcuating the ranking using a weighted average"
   ]
  },
  {
   "cell_type": "code",
   "execution_count": 15,
   "metadata": {},
   "outputs": [],
   "source": [
    "'''\n",
    "Weighted rating function for cosine similarity\n",
    "'''\n",
    "def weighted_avg_ranking(test_file, shift_index, k_most_similar_indexes, cos_sim_matrix, k):\n",
    "    numerator = 0\n",
    "    denominator = 0\n",
    "    output = []\n",
    "    line = []\n",
    "    \n",
    "    for index,row in test_file.iterrows():\n",
    "        temp_counter = 0\n",
    "        counter = 0\n",
    "        if row[2] == 0:\n",
    "            #print(row[0], row[1], row[2])\n",
    "            user_id = row[0] - shift_index\n",
    "            movie = row[1]\n",
    "            movie_id = row[1]-1\n",
    "            \n",
    "            indexes = k_most_similar_indexes[user_id]\n",
    "            reverse_indexes = indexes.copy()\n",
    "            reverse_indexes.reverse()\n",
    "\n",
    "            for ind in reverse_indexes:\n",
    "                cos_sim = cos_sim_matrix[user_id][ind]\n",
    "                ranking = arr[ind][movie_id]\n",
    "                if ranking != 0 and cos_sim > 0.6:\n",
    "                    temp_counter += 1\n",
    "                    #print(\"INDEX: \" + str(ind) +  \", COS_SIM: \" + str(cos_sim) + \", RANKING: \" + str(ranking))\n",
    "\n",
    "                    counter += 1\n",
    "                    numerator += (cos_sim * ranking)\n",
    "                    denominator += cos_sim\n",
    "                    if counter == k:\n",
    "                        break;\n",
    "            #print(\"TEMP COUNTER: \" + str(temp_counter))\n",
    "            if temp_counter == 95: #testing to find users with a true K value of 95\n",
    "                print(\"GREATER THAN 95\")\n",
    "            #temp_counter = 0\n",
    "            if numerator != 0 and denominator != 0:\n",
    "                #print(\"Numerator: \" + str(numerator) + \", denominator: \" + str(denominator))    \n",
    "                final_rank = numerator/denominator\n",
    "                final_rank = int(round(final_rank, 0))\n",
    "                line = [row[0], row[1], final_rank]\n",
    "                output.append(line)\n",
    "\n",
    "            elif numerator == 0 and denominator == 0:\n",
    "                #print(\"NO USER HAS WATCHED THE MOVIE\")\n",
    "                line = [row[0], row[1], 3]\n",
    "                output.append(line) \n",
    "            numerator = 0\n",
    "            denominator = 0       \n",
    "        #print(\"\\n\")\n",
    "    return output       "
   ]
  },
  {
   "cell_type": "code",
   "execution_count": 16,
   "metadata": {
    "scrolled": true
   },
   "outputs": [],
   "source": [
    "output5 = weighted_avg_ranking(test5, 201, k_most_similar_indexes_5, cos_sim_matrix_5, 95)"
   ]
  },
  {
   "cell_type": "code",
   "execution_count": 17,
   "metadata": {},
   "outputs": [],
   "source": [
    "output10 = weighted_avg_ranking(test10, 301, k_most_similar_indexes_10, cos_sim_matrix_10, 95)"
   ]
  },
  {
   "cell_type": "code",
   "execution_count": 18,
   "metadata": {},
   "outputs": [
    {
     "name": "stdout",
     "output_type": "stream",
     "text": [
      "GREATER THAN 95\n"
     ]
    }
   ],
   "source": [
    "output20 = weighted_avg_ranking(test20, 401, k_most_similar_indexes_20, cos_sim_matrix_20, 95)"
   ]
  },
  {
   "cell_type": "code",
   "execution_count": 19,
   "metadata": {},
   "outputs": [],
   "source": [
    "def convert_list_to_str(line):\n",
    "    string = str(line)[1:-1]\n",
    "    string = string.replace(',', '')\n",
    "    return string"
   ]
  },
  {
   "cell_type": "code",
   "execution_count": 20,
   "metadata": {},
   "outputs": [],
   "source": [
    "'''\n",
    "Function to write the output to a file\n",
    "'''\n",
    "def write_to_file(output, output_file):\n",
    "    with open(output_file, 'w') as f:\n",
    "        for line in output:\n",
    "            f.write(convert_list_to_str(line))\n",
    "            f.write('\\n')"
   ]
  },
  {
   "cell_type": "code",
   "execution_count": 21,
   "metadata": {},
   "outputs": [],
   "source": [
    "write_to_file(output5, 'threshold0.6_k95_cos_sim_result5.txt')"
   ]
  },
  {
   "cell_type": "code",
   "execution_count": 22,
   "metadata": {},
   "outputs": [],
   "source": [
    "write_to_file(output10, 'threshold0.6_k95_cos_sim_result10.txt')"
   ]
  },
  {
   "cell_type": "code",
   "execution_count": 23,
   "metadata": {},
   "outputs": [],
   "source": [
    "write_to_file(output20, 'threshold0.6_k95_cos_sim_result20.txt')"
   ]
  },
  {
   "cell_type": "markdown",
   "metadata": {},
   "source": [
    "# Pearson Correlation"
   ]
  },
  {
   "cell_type": "code",
   "execution_count": 24,
   "metadata": {},
   "outputs": [],
   "source": [
    "'''\n",
    "Calculates the mean for each user and subtracting the mean from each rating value != 0\n",
    "Matrix Dimensions: 200x1000\n",
    "'''\n",
    "def pearson_train(training_data):\n",
    "    pearson_correlation_arr = []\n",
    "    pearson_correlation_list = []\n",
    "    pearson_correlation_mean = []\n",
    "\n",
    "    for index,user_ratings in enumerate(training_data):\n",
    "        counter = 0\n",
    "        count = 0\n",
    "        summation = 0\n",
    "        mean = 0\n",
    "        \n",
    "        #calculating means for each user\n",
    "        for movie_rating in user_ratings:\n",
    "            if movie_rating != 0:\n",
    "                summation += movie_rating\n",
    "                count += 1\n",
    "        mean = summation/count\n",
    "        pearson_correlation_mean.append(mean)\n",
    "\n",
    "        for rating in user_ratings:\n",
    "            if rating != 0:\n",
    "                rating = rating - mean\n",
    "            pearson_correlation_list.append(rating)\n",
    "            counter += 1\n",
    "            if counter == 1000:\n",
    "                pearson_correlation_arr.append(pearson_correlation_list)\n",
    "                counter = 0\n",
    "                pearson_correlation_list = []\n",
    "    return pearson_correlation_arr, pearson_correlation_mean"
   ]
  },
  {
   "cell_type": "code",
   "execution_count": 25,
   "metadata": {},
   "outputs": [
    {
     "name": "stdout",
     "output_type": "stream",
     "text": [
      "Rows of train_pearson_arr: 200\n",
      "Cols of train_pearson_arr: 1000\n",
      "Length of train_pearson_means: 200\n"
     ]
    }
   ],
   "source": [
    "train_pearson_arr, train_pearson_means = pearson_train(arr)\n",
    "#print(train_pearson_arr)\n",
    "#print(train_pearson_means)\n",
    "\n",
    "print(\"Rows of train_pearson_arr: \" + str(len(train_pearson_arr)))\n",
    "print(\"Cols of train_pearson_arr: \" + str(len(train_pearson_arr[0])))\n",
    "print(\"Length of train_pearson_means: \" + str(len(train_pearson_means)))"
   ]
  },
  {
   "cell_type": "code",
   "execution_count": 26,
   "metadata": {},
   "outputs": [],
   "source": [
    "'''\n",
    "Calculates the mean for each active user and subtracting the mean from each rating value != 0\n",
    "Matrix Dimensions: 100x1000\n",
    "'''\n",
    "def pearson_test(test_user_arr):\n",
    "    test_pearson_correlation_arr = []\n",
    "    test_mean = []\n",
    "    count = 0\n",
    "    summation = 0\n",
    "    for key in test_user_arr:\n",
    "        summation = 0\n",
    "        count = 0\n",
    "        mean = 0\n",
    "        for rating in test_user_arr[key]:\n",
    "            if rating != 0:\n",
    "                summation += rating\n",
    "                count += 1\n",
    "        mean = summation/count\n",
    "        test_mean.append(mean)\n",
    "        \n",
    "        for rating in test_user_arr[key]:\n",
    "            if rating != 0:\n",
    "                rating = rating - mean\n",
    "            test_pearson_correlation_arr.append(rating)\n",
    "\n",
    "        entry = {key: test_pearson_correlation_arr}\n",
    "        test_user_arr.update(entry)\n",
    "        test_pearson_correlation_arr = []\n",
    "    return test_mean"
   ]
  },
  {
   "cell_type": "code",
   "execution_count": 27,
   "metadata": {},
   "outputs": [],
   "source": [
    "pearson_test5_user_arr = test5_user_arr.copy()\n",
    "pearson_test10_user_arr = test10_user_arr.copy()\n",
    "pearson_test20_user_arr = test20_user_arr.copy()\n",
    "\n",
    "test5_pearson_means = pearson_test(pearson_test5_user_arr)\n",
    "test10_pearson_means = pearson_test(pearson_test10_user_arr)\n",
    "test20_pearson_means = pearson_test(pearson_test20_user_arr)"
   ]
  },
  {
   "cell_type": "code",
   "execution_count": 28,
   "metadata": {},
   "outputs": [
    {
     "name": "stdout",
     "output_type": "stream",
     "text": [
      "Rows: 100\n",
      "Columns: 200\n",
      "\n",
      "Rows: 100\n",
      "Columns: 200\n",
      "\n",
      "Rows: 100\n",
      "Columns: 200\n",
      "\n"
     ]
    }
   ],
   "source": [
    "pearson_cos_sim_matrix_5 = pd.DataFrame()\n",
    "pearson_cos_sim_matrix_10 = pd.DataFrame()\n",
    "pearson_cos_sim_matrix_20 = pd.DataFrame()\n",
    "\n",
    "pearson_cos_sim_matrix_5 = create_cos_sim_matrix(pearson_cos_sim_matrix_5, pearson_test5_user_arr, train_pearson_arr)\n",
    "pearson_cos_sim_matrix_10 = create_cos_sim_matrix(pearson_cos_sim_matrix_10, pearson_test10_user_arr, train_pearson_arr)\n",
    "pearson_cos_sim_matrix_20 = create_cos_sim_matrix(pearson_cos_sim_matrix_20, pearson_test20_user_arr, train_pearson_arr)\n",
    "\n",
    "print_matrix_dimensions(pearson_cos_sim_matrix_5)\n",
    "print_matrix_dimensions(pearson_cos_sim_matrix_10)\n",
    "print_matrix_dimensions(pearson_cos_sim_matrix_20)"
   ]
  },
  {
   "cell_type": "code",
   "execution_count": 29,
   "metadata": {},
   "outputs": [
    {
     "name": "stdout",
     "output_type": "stream",
     "text": [
      "Rows: 100\n",
      "Columns: 200\n",
      "\n",
      "Rows: 100\n",
      "Columns: 200\n",
      "\n",
      "Rows: 100\n",
      "Columns: 200\n",
      "\n"
     ]
    }
   ],
   "source": [
    "pearson_k_most_similar_indexes_5 = index_k_most_similar(pearson_cos_sim_matrix_5)\n",
    "pearson_k_most_similar_indexes_10 = index_k_most_similar(pearson_cos_sim_matrix_10)\n",
    "pearson_k_most_similar_indexes_20 = index_k_most_similar(pearson_cos_sim_matrix_20)\n",
    "\n",
    "print_matrix_dimensions(pearson_k_most_similar_indexes_5)\n",
    "print_matrix_dimensions(pearson_k_most_similar_indexes_10)\n",
    "print_matrix_dimensions(pearson_k_most_similar_indexes_20)"
   ]
  },
  {
   "cell_type": "code",
   "execution_count": 30,
   "metadata": {},
   "outputs": [],
   "source": [
    "'''\n",
    "Weighted rating function for Pearson Correlation\n",
    "'''\n",
    "def ranking_pearson_correlation(test_file, shift_index, k_most_similar_indexes, cos_sim_matrix, test_pearson_means, train_pearson_means, arr, k):\n",
    "    numerator = 0\n",
    "    denominator = 0\n",
    "    output = []\n",
    "    line = []\n",
    "    for index,row in test_file.iterrows():\n",
    "        counter = 0\n",
    "        if row[2] == 0:\n",
    "            #print(row[0], row[1], row[2])\n",
    "            active_user_id = row[0] - shift_index\n",
    "            movie = row[1]\n",
    "            movie_id = row[1]-1\n",
    "\n",
    "            indexes = k_most_similar_indexes[active_user_id]\n",
    "            reverse_indexes = indexes.copy()\n",
    "            reverse_indexes.reverse()\n",
    "            for ind in reverse_indexes:\n",
    "                test_mean_val = test_pearson_means[active_user_id]\n",
    "                mean_val_train_user = train_pearson_means[ind]\n",
    "                #print(\"Mean val for user \" + str(row[0]) + \": \" + str(test_mean_val))\n",
    "                #print(\"Mean val for user \" + str(ind) + \": \" + str(mean_val_train_user))\n",
    "                cos_sim = cos_sim_matrix[active_user_id][ind]\n",
    "                ranking = arr[ind][movie_id]\n",
    "                if ranking != 0:\n",
    "                    counter += 1\n",
    "                    numerator += (cos_sim * (ranking - mean_val_train_user))\n",
    "                    denominator += abs(cos_sim)\n",
    "                    if counter == k:\n",
    "                        break;\n",
    "                #else:\n",
    "                    #print(\"Ranking: NOT RANKED\")\n",
    "            if denominator != 0:\n",
    "                #print(\"Numerator: \" + str(numerator) + \", denominator: \" + str(denominator))    \n",
    "                final_rank = test_mean_val + (numerator/denominator)\n",
    "                final_rank = int(round(final_rank, 0))\n",
    "                if final_rank < 1:\n",
    "                    final_rank = 1\n",
    "                elif final_rank > 5:\n",
    "                    final_rank = 5\n",
    "                line = [row[0], row[1], final_rank]\n",
    "                output.append(line)\n",
    "                #print(\"Final Rank for movie \" + str(movie) + \": \" + str(final_rank))  \n",
    "            elif numerator == 0 and denominator == 0:\n",
    "                #print(\"NO USER HAS WATCHED THE MOVIE\\n\")\n",
    "                line = [row[0], row[1], 3]\n",
    "                output.append(line)     \n",
    "            numerator = 0\n",
    "            denominator = 0\n",
    "        #print(\"\\n\")\n",
    "    return output"
   ]
  },
  {
   "cell_type": "code",
   "execution_count": 31,
   "metadata": {},
   "outputs": [],
   "source": [
    "pearson_output5 = ranking_pearson_correlation(test5, 201, pearson_k_most_similar_indexes_5, pearson_cos_sim_matrix_5, test5_pearson_means, train_pearson_means, arr, 20)"
   ]
  },
  {
   "cell_type": "code",
   "execution_count": 32,
   "metadata": {},
   "outputs": [],
   "source": [
    "pearson_output10 = ranking_pearson_correlation(test10, 301, pearson_k_most_similar_indexes_10, pearson_cos_sim_matrix_10, test10_pearson_means, train_pearson_means, arr, 20)"
   ]
  },
  {
   "cell_type": "code",
   "execution_count": 33,
   "metadata": {},
   "outputs": [],
   "source": [
    "pearson_output20 = ranking_pearson_correlation(test20, 401, pearson_k_most_similar_indexes_20, pearson_cos_sim_matrix_20, test20_pearson_means, train_pearson_means, arr, 20)"
   ]
  },
  {
   "cell_type": "code",
   "execution_count": 34,
   "metadata": {},
   "outputs": [],
   "source": [
    "write_to_file(pearson_output5, 'abs_k20_pearson_result5.txt')\n",
    "write_to_file(pearson_output10, 'abs_k10_pearson_result10.txt')\n",
    "write_to_file(pearson_output20, 'abs_k10_pearson_result20.txt')"
   ]
  },
  {
   "cell_type": "markdown",
   "metadata": {},
   "source": [
    "# Pearson Correlation With Inverse User Frequency"
   ]
  },
  {
   "cell_type": "code",
   "execution_count": 35,
   "metadata": {},
   "outputs": [
    {
     "name": "stdout",
     "output_type": "stream",
     "text": [
      "[[5 3 0 ... 0 0 0]\n",
      " [4 0 0 ... 0 0 0]\n",
      " [0 0 0 ... 0 0 0]\n",
      " ...\n",
      " [4 0 0 ... 0 0 0]\n",
      " [1 0 0 ... 0 0 0]\n",
      " [5 4 0 ... 0 0 0]]\n",
      "(200, 1000)\n"
     ]
    }
   ],
   "source": [
    "print(arr)\n",
    "print(arr.shape)"
   ]
  },
  {
   "cell_type": "code",
   "execution_count": 36,
   "metadata": {},
   "outputs": [],
   "source": [
    "'''\n",
    "Calculating the movie counts for the training data\n",
    "'''\n",
    "def training_movie_counts():\n",
    "    movie_rated_counts = [0] * 1000\n",
    "    for row in arr:\n",
    "        for index,rating in enumerate(row):\n",
    "            if rating != 0:\n",
    "                movie_rated_counts[index] += 1\n",
    "    print(\"Length of Training Movie Counts: \" + str(len(movie_rated_counts)))\n",
    "    return movie_rated_counts"
   ]
  },
  {
   "cell_type": "code",
   "execution_count": 37,
   "metadata": {},
   "outputs": [],
   "source": [
    "'''\n",
    "Returns an array of iuf values for each training user\n",
    "'''\n",
    "def iuf_train_vals_arr(movie_rated_counts):\n",
    "    iuf_training = []\n",
    "    for i in range(len(movie_rated_counts)):\n",
    "        if movie_rated_counts[i] != 0:\n",
    "            #print(\"movie_rated_counts[i]: \" + str(movie_rated_counts[i]))\n",
    "            iuf_rating = math.log10((200/movie_rated_counts[i]))\n",
    "        else:\n",
    "            iuf_rating = 1\n",
    "        iuf_training.append(iuf_rating)\n",
    "    print(\"Length of IUF Training Values Array: \" + str(len(iuf_training)))\n",
    "    return iuf_training"
   ]
  },
  {
   "cell_type": "code",
   "execution_count": 38,
   "metadata": {},
   "outputs": [],
   "source": [
    "'''\n",
    "Returns the training matrix with each rating = rating * IUF value\n",
    "'''\n",
    "def create_iuf_matrix(training_data, iuf_training_vals):\n",
    "    for index,row in enumerate(training_data):\n",
    "        for index2,rating in enumerate(row):\n",
    "            training_data[index][index2] = float(training_data[index][index2]) * float(iuf_training_vals[index2])\n",
    "    return training_data"
   ]
  },
  {
   "cell_type": "code",
   "execution_count": 39,
   "metadata": {},
   "outputs": [
    {
     "name": "stdout",
     "output_type": "stream",
     "text": [
      "Length of Training Movie Counts: 1000\n",
      "Length of IUF Training Values Array: 1000\n",
      "Rows of iuf_training_data: 200\n",
      "Cols of iuf_training_data: 1000\n"
     ]
    }
   ],
   "source": [
    "'''\n",
    "Complete function to return the training matrix\n",
    "Matrix Dimensions: 200x1000\n",
    "'''\n",
    "def final_iuf_train_arr():\n",
    "    movie_rated_counts = training_movie_counts()\n",
    "    iuf_training_vals = iuf_train_vals_arr(movie_rated_counts)\n",
    "    #print(iuf_training_vals)\n",
    "\n",
    "    training_data = arr.copy()\n",
    "    training_data = training_data.astype(float)\n",
    "    #print(training_data)\n",
    "    \n",
    "    iuf_training_data = create_iuf_matrix(training_data, iuf_training_vals)\n",
    "    print(\"Rows of iuf_training_data: \" + str(len(iuf_training_data)))\n",
    "    print(\"Cols of iuf_training_data: \" + str(len(iuf_training_data[0])))\n",
    "    return iuf_training_data\n",
    "\n",
    "iuf_training_data = final_iuf_train_arr()"
   ]
  },
  {
   "cell_type": "code",
   "execution_count": 40,
   "metadata": {},
   "outputs": [],
   "source": [
    "iuf_pearson_test5_user_arr = test5_user_arr.copy()\n",
    "iuf_pearson_test10_user_arr = test10_user_arr.copy()\n",
    "iuf_pearson_test20_user_arr = test20_user_arr.copy()"
   ]
  },
  {
   "cell_type": "code",
   "execution_count": 41,
   "metadata": {},
   "outputs": [
    {
     "name": "stdout",
     "output_type": "stream",
     "text": [
      "Length of test5_movie_rated_counts: 1000\n",
      "Length of test10_movie_rated_counts: 1000\n",
      "Length of test20_movie_rated_counts: 1000\n"
     ]
    }
   ],
   "source": [
    "'''\n",
    "Calculating the movie counts for the test data\n",
    "'''\n",
    "def test_movie_counts(test_user_arr):\n",
    "    test_movie_rated_counts = [0] * 1000\n",
    "    for key in test_user_arr:\n",
    "        for index,rating in enumerate(test_user_arr[key]):\n",
    "            if rating != 0:\n",
    "                test_movie_rated_counts[index] += 1\n",
    "    return test_movie_rated_counts\n",
    "\n",
    "test5_movie_rated_counts = test_movie_counts(iuf_pearson_test5_user_arr)\n",
    "test10_movie_rated_counts = test_movie_counts(iuf_pearson_test10_user_arr)\n",
    "test20_movie_rated_counts = test_movie_counts(iuf_pearson_test20_user_arr)\n",
    "\n",
    "print(\"Length of test5_movie_rated_counts: \" + str(len(test5_movie_rated_counts)))\n",
    "print(\"Length of test10_movie_rated_counts: \" + str(len(test10_movie_rated_counts)))\n",
    "print(\"Length of test20_movie_rated_counts: \" + str(len(test20_movie_rated_counts)))"
   ]
  },
  {
   "cell_type": "code",
   "execution_count": 42,
   "metadata": {},
   "outputs": [
    {
     "name": "stdout",
     "output_type": "stream",
     "text": [
      "Length of iuf_test5_vals: 1000\n",
      "Length of iuf_test10_vals: 1000\n",
      "Length of iuf_test20_vals: 1000\n"
     ]
    }
   ],
   "source": [
    "'''\n",
    "Returns an array of iuf values for each active user\n",
    "'''\n",
    "def iuf_test_vals_arr(test_movie_rated_counts):\n",
    "    iuf_testing_vals = []\n",
    "    for i in range(len(test_movie_rated_counts)):\n",
    "        if test_movie_rated_counts[i] != 0:\n",
    "            iuf_rating = math.log10((200/test_movie_rated_counts[i]))\n",
    "        else:\n",
    "            iuf_rating = 1\n",
    "        iuf_testing_vals.append(iuf_rating)\n",
    "    return iuf_testing_vals\n",
    "\n",
    "iuf_test5_vals = iuf_test_vals_arr(test5_movie_rated_counts)\n",
    "iuf_test10_vals = iuf_test_vals_arr(test10_movie_rated_counts)\n",
    "iuf_test20_vals = iuf_test_vals_arr(test20_movie_rated_counts)\n",
    "\n",
    "print(\"Length of iuf_test5_vals: \" + str(len(iuf_test5_vals)))\n",
    "print(\"Length of iuf_test10_vals: \" + str(len(iuf_test10_vals)))\n",
    "print(\"Length of iuf_test20_vals: \" + str(len(iuf_test20_vals)))"
   ]
  },
  {
   "cell_type": "code",
   "execution_count": 43,
   "metadata": {},
   "outputs": [],
   "source": [
    "'''\n",
    "Updates the test users dictionary with each rating = rating * IUF value\n",
    "'''\n",
    "def iuf_test_arr(test_user_arr, iuf_test_vals):\n",
    "    iuf_testing_list = []\n",
    "    new_rating = 0\n",
    "    for key in test_user_arr:\n",
    "        for index,rating in enumerate(test_user_arr[key]):\n",
    "            #print(rating, iuf_test_vals[index])\n",
    "            new_rating = rating * iuf_test_vals[index]\n",
    "            iuf_testing_list.append(new_rating)\n",
    "        entry = {key: iuf_testing_list}\n",
    "        test_user_arr.update(entry)\n",
    "        iuf_testing_list = []\n",
    "        \n",
    "iuf_test_arr(iuf_pearson_test5_user_arr, iuf_test5_vals)\n",
    "iuf_test_arr(iuf_pearson_test10_user_arr, iuf_test10_vals)\n",
    "iuf_test_arr(iuf_pearson_test20_user_arr, iuf_test20_vals)"
   ]
  },
  {
   "cell_type": "code",
   "execution_count": 44,
   "metadata": {},
   "outputs": [
    {
     "name": "stdout",
     "output_type": "stream",
     "text": [
      "Rows of iuf_train_pearson_arr: 200\n",
      "Cols of iuf_train_pearson_arr: 1000\n",
      "Length of iuf_train_pearson_means: 200\n"
     ]
    }
   ],
   "source": [
    "iuf_train_pearson_arr, iuf_train_pearson_means = pearson_train(iuf_training_data)\n",
    "\n",
    "print(\"Rows of iuf_train_pearson_arr: \" + str(len(iuf_train_pearson_arr)))\n",
    "print(\"Cols of iuf_train_pearson_arr: \" + str(len(iuf_train_pearson_arr[0])))\n",
    "print(\"Length of iuf_train_pearson_means: \" + str(len(iuf_train_pearson_means)))"
   ]
  },
  {
   "cell_type": "code",
   "execution_count": 45,
   "metadata": {},
   "outputs": [
    {
     "name": "stdout",
     "output_type": "stream",
     "text": [
      "Length of iuf_test5_pearson_means: 100\n",
      "Length of iuf_test10_pearson_means: 100\n",
      "Length of iuf_test20_pearson_means: 100\n"
     ]
    }
   ],
   "source": [
    "iuf_test5_pearson_means = pearson_test(iuf_pearson_test5_user_arr)\n",
    "iuf_test10_pearson_means = pearson_test(iuf_pearson_test10_user_arr)\n",
    "iuf_test20_pearson_means = pearson_test(iuf_pearson_test20_user_arr)\n",
    "\n",
    "print(\"Length of iuf_test5_pearson_means: \" + str(len(iuf_test5_pearson_means)))\n",
    "print(\"Length of iuf_test10_pearson_means: \" + str(len(iuf_test10_pearson_means)))\n",
    "print(\"Length of iuf_test20_pearson_means: \" + str(len(iuf_test20_pearson_means)))\n",
    "#print(iuf_pearson_test5_user_arr)\n",
    "#print(iuf_test5_pearson_means)"
   ]
  },
  {
   "cell_type": "code",
   "execution_count": 46,
   "metadata": {},
   "outputs": [],
   "source": [
    "iuf_pearson_cos_sim_matrix_5 = pd.DataFrame()\n",
    "iuf_pearson_cos_sim_matrix_10 = pd.DataFrame()\n",
    "iuf_pearson_cos_sim_matrix_20 = pd.DataFrame()\n",
    "\n",
    "iuf_pearson_cos_sim_matrix_5 = create_cos_sim_matrix(iuf_pearson_cos_sim_matrix_5, iuf_pearson_test5_user_arr, iuf_train_pearson_arr)\n",
    "iuf_pearson_cos_sim_matrix_10 = create_cos_sim_matrix(iuf_pearson_cos_sim_matrix_10, iuf_pearson_test10_user_arr, iuf_train_pearson_arr)\n",
    "iuf_pearson_cos_sim_matrix_20 = create_cos_sim_matrix(iuf_pearson_cos_sim_matrix_20, iuf_pearson_test20_user_arr, iuf_train_pearson_arr)"
   ]
  },
  {
   "cell_type": "code",
   "execution_count": 47,
   "metadata": {},
   "outputs": [
    {
     "name": "stdout",
     "output_type": "stream",
     "text": [
      "Rows: 100, Cols:200\n",
      "Rows: 100, Cols:200\n",
      "Rows: 100, Cols:200\n"
     ]
    }
   ],
   "source": [
    "iuf_pearson_k_most_similar_indexes_5 = index_k_most_similar(iuf_pearson_cos_sim_matrix_5)\n",
    "iuf_pearson_k_most_similar_indexes_10 = index_k_most_similar(iuf_pearson_cos_sim_matrix_10)\n",
    "iuf_pearson_k_most_similar_indexes_20 = index_k_most_similar(iuf_pearson_cos_sim_matrix_20)\n",
    "\n",
    "print(\"Rows: \" + str(len(iuf_pearson_k_most_similar_indexes_5)) + \", Cols:\" + str(len(iuf_pearson_k_most_similar_indexes_5[0])))\n",
    "print(\"Rows: \" + str(len(iuf_pearson_k_most_similar_indexes_10)) + \", Cols:\" + str(len(iuf_pearson_k_most_similar_indexes_10[0])))\n",
    "print(\"Rows: \" + str(len(iuf_pearson_k_most_similar_indexes_20)) + \", Cols:\" + str(len(iuf_pearson_k_most_similar_indexes_20[0])))\n"
   ]
  },
  {
   "cell_type": "markdown",
   "metadata": {},
   "source": [
    "IUF does not affect rating prediction, thus we pass the old cos_sim_matrix, and old training and testing means"
   ]
  },
  {
   "cell_type": "code",
   "execution_count": 48,
   "metadata": {},
   "outputs": [],
   "source": [
    "iuf_pearson_output5 = ranking_pearson_correlation(test5, 201, iuf_pearson_k_most_similar_indexes_5, pearson_cos_sim_matrix_5, test5_pearson_means, train_pearson_means, arr, 20)"
   ]
  },
  {
   "cell_type": "code",
   "execution_count": 49,
   "metadata": {},
   "outputs": [],
   "source": [
    "iuf_pearson_output10 = ranking_pearson_correlation(test10, 301, iuf_pearson_k_most_similar_indexes_10, pearson_cos_sim_matrix_10, test10_pearson_means, train_pearson_means, arr, 20)"
   ]
  },
  {
   "cell_type": "code",
   "execution_count": 50,
   "metadata": {},
   "outputs": [],
   "source": [
    "iuf_pearson_output20 = ranking_pearson_correlation(test20, 401, iuf_pearson_k_most_similar_indexes_20, pearson_cos_sim_matrix_20, test20_pearson_means, train_pearson_means, arr, 20)"
   ]
  },
  {
   "cell_type": "code",
   "execution_count": 51,
   "metadata": {},
   "outputs": [],
   "source": [
    "write_to_file(iuf_pearson_output5, 'abs_k20_iuf_pearson_result5.txt')\n",
    "write_to_file(iuf_pearson_output10, 'abs_k20_iuf_pearson_result10.txt')\n",
    "write_to_file(iuf_pearson_output20, 'abs_k20_iuf_pearson_result20.txt')"
   ]
  },
  {
   "cell_type": "markdown",
   "metadata": {},
   "source": [
    "# Pearson Correlation With Case Amplification"
   ]
  },
  {
   "cell_type": "code",
   "execution_count": 52,
   "metadata": {},
   "outputs": [
    {
     "name": "stdout",
     "output_type": "stream",
     "text": [
      "[4.4, 3.4, 3.4, 4.0, 2.2, 2.6, 4.0, 4.0, 4.2, 2.2, 3.6, 3.8, 3.6, 4.2, 4.2, 4.0, 3.4, 2.8, 4.8, 3.8, 4.4, 3.2, 3.4, 4.0, 2.6, 4.0, 4.8, 3.6, 3.0, 3.4, 3.4, 3.4, 3.4, 3.4, 3.4, 4.0, 3.2, 4.0, 3.4, 2.8, 3.8, 2.2, 4.2, 3.6, 1.4, 2.4, 4.2, 3.0, 3.4, 4.2, 2.2, 3.6, 3.4, 2.4, 3.6, 3.6, 4.4, 3.8, 3.2, 3.8, 3.4, 3.8, 2.4, 3.8, 3.6, 3.8, 3.8, 3.4, 4.8, 2.8, 3.6, 4.2, 3.6, 4.4, 4.6, 3.4, 4.2, 4.0, 3.4, 3.4, 4.2, 3.6, 2.8, 4.6, 2.6, 3.2, 3.4, 2.6, 3.4, 3.0, 3.2, 3.6, 3.8, 4.4, 3.8, 4.2, 3.4, 3.2, 3.8, 4.0]\n",
      "[2.6, 2.9, 3.9, 4.8, 3.3, 3.6, 3.6, 3.9, 3.3, 3.0, 3.7, 4.2, 3.6, 3.9, 4.1, 3.5, 3.8, 4.4, 3.0, 3.5, 3.9, 2.8, 3.9, 2.5, 2.8, 4.1, 3.6, 4.4, 3.8, 3.6, 4.5, 4.0, 4.0, 3.7, 3.1, 3.8, 4.2, 4.5, 4.2, 3.1, 4.2, 3.5, 3.8, 3.4, 3.9, 4.0, 3.8, 4.2, 3.9, 4.0, 3.7, 3.7, 4.0, 3.0, 4.3, 3.3, 3.8, 4.0, 4.0, 3.3, 3.1, 3.8, 3.1, 4.4, 4.0, 3.0, 3.8, 2.8, 3.8, 4.1, 4.1, 4.0, 3.7, 3.7, 3.9, 3.7, 4.5, 3.2, 3.8, 3.5, 4.6, 4.0, 3.1, 3.7, 3.3, 4.5, 3.9, 3.8, 3.8, 3.9, 3.7, 4.5, 3.9, 3.5, 3.8, 3.7, 3.2, 3.6, 2.7, 4.2]\n",
      "[3.25, 3.5, 3.6, 2.5, 3.05, 3.8, 3.25, 4.05, 3.25, 3.75, 4.55, 3.7, 3.65, 3.85, 2.85, 3.6, 3.55, 4.05, 2.85, 2.8, 3.35, 4.1, 3.0, 3.0, 3.6, 3.85, 4.25, 3.4, 3.95, 3.65, 4.3, 4.4, 3.35, 3.7, 2.75, 3.6, 4.15, 3.8, 3.9, 4.45, 2.85, 2.2, 3.9, 3.85, 3.7, 3.15, 4.15, 4.4, 3.45, 3.9, 3.3, 3.7, 4.25, 3.7, 4.25, 4.35, 3.1, 3.4, 3.6, 3.25, 3.8, 4.35, 3.75, 4.0, 4.6, 3.55, 3.3, 3.85, 4.35, 3.2, 3.55, 4.2, 4.25, 3.45, 3.75, 3.5, 3.7, 3.75, 3.45, 3.6, 3.75, 3.75, 4.4, 3.3, 3.75, 4.1, 3.3, 3.85, 3.75, 3.9, 4.45, 3.55, 4.4, 3.45, 3.1, 3.45, 3.4, 3.8, 4.45, 4.0]\n"
     ]
    }
   ],
   "source": [
    "#pearson_test5_user_arr = test5_user_arr.copy()\n",
    "#pearson_test10_user_arr = test10_user_arr.copy()\n",
    "#pearson_test20_user_arr = test20_user_arr.copy()\n",
    "#test5_pearson_means = pearson_test(pearson_test5_user_arr)\n",
    "#test10_pearson_means = pearson_test(pearson_test10_user_arr)\n",
    "#test20_pearson_means = pearson_test(pearson_test20_user_arr)\n",
    "#print(pearson_test5_user_arr)\n",
    "\n",
    "print(test5_pearson_means)\n",
    "print(test10_pearson_means)\n",
    "print(test20_pearson_means)"
   ]
  },
  {
   "cell_type": "code",
   "execution_count": 53,
   "metadata": {},
   "outputs": [],
   "source": [
    "'''\n",
    "Returns the original cosine matrix with rating = rating * abs(rating)^1.5\n",
    "Matrix Dimensions: 100x1000\n",
    "'''\n",
    "def case_mod_cos_sim_matrix(cos_sim_matrix):\n",
    "    for index,row in enumerate(cos_sim_matrix):\n",
    "        for index2,cos_sim_val in enumerate(row):\n",
    "            cos_sim_matrix[index][index2] = cos_sim_matrix[index][index2] * (math.pow(abs(cos_sim_matrix[index][index2]),1.5))\n",
    "    return cos_sim_matrix\n",
    "\n",
    "case_mod_pearson_cos_sim_matrix_5 = pearson_cos_sim_matrix_5.copy()\n",
    "case_mod_pearson_cos_sim_matrix_10 = pearson_cos_sim_matrix_10.copy()\n",
    "case_mod_pearson_cos_sim_matrix_20 = pearson_cos_sim_matrix_20.copy()\n",
    "\n",
    "case_mod_pearson_cos_sim_matrix_5 = case_mod_cos_sim_matrix(case_mod_pearson_cos_sim_matrix_5)\n",
    "case_mod_pearson_cos_sim_matrix_10 = case_mod_cos_sim_matrix(case_mod_pearson_cos_sim_matrix_10)\n",
    "case_mod_pearson_cos_sim_matrix_20 = case_mod_cos_sim_matrix(case_mod_pearson_cos_sim_matrix_20)"
   ]
  },
  {
   "cell_type": "code",
   "execution_count": 54,
   "metadata": {},
   "outputs": [
    {
     "name": "stdout",
     "output_type": "stream",
     "text": [
      "100\n",
      "100\n",
      "100\n"
     ]
    }
   ],
   "source": [
    "case_mod_pearson_k_most_similar_indexes_5 = index_k_most_similar(case_mod_pearson_cos_sim_matrix_5)\n",
    "case_mod_pearson_k_most_similar_indexes_10 = index_k_most_similar(case_mod_pearson_cos_sim_matrix_10)\n",
    "case_mod_pearson_k_most_similar_indexes_20 = index_k_most_similar(case_mod_pearson_cos_sim_matrix_20)\n",
    "\n",
    "print(len(case_mod_pearson_k_most_similar_indexes_5))\n",
    "print(len(case_mod_pearson_k_most_similar_indexes_10))\n",
    "print(len(case_mod_pearson_k_most_similar_indexes_20))"
   ]
  },
  {
   "cell_type": "code",
   "execution_count": 55,
   "metadata": {},
   "outputs": [],
   "source": [
    "case_mod_pearson_output5 = ranking_pearson_correlation(test5, 201, case_mod_pearson_k_most_similar_indexes_5, case_mod_pearson_cos_sim_matrix_5, test5_pearson_means, train_pearson_means, arr, 20)"
   ]
  },
  {
   "cell_type": "code",
   "execution_count": 56,
   "metadata": {},
   "outputs": [],
   "source": [
    "case_mod_pearson_output10 = ranking_pearson_correlation(test10, 301, case_mod_pearson_k_most_similar_indexes_10, case_mod_pearson_cos_sim_matrix_10, test10_pearson_means, train_pearson_means, arr, 20)"
   ]
  },
  {
   "cell_type": "code",
   "execution_count": 57,
   "metadata": {},
   "outputs": [],
   "source": [
    "case_mod_pearson_output20 = ranking_pearson_correlation(test20, 401, case_mod_pearson_k_most_similar_indexes_20, case_mod_pearson_cos_sim_matrix_20, test20_pearson_means, train_pearson_means, arr, 20)"
   ]
  },
  {
   "cell_type": "code",
   "execution_count": 58,
   "metadata": {},
   "outputs": [],
   "source": [
    "write_to_file(case_mod_pearson_output5, 'abs_k20_case_mod_pearson_result5.txt')\n",
    "write_to_file(case_mod_pearson_output10, 'abs_k20_case_mod_pearson_result10.txt')\n",
    "write_to_file(case_mod_pearson_output20, 'abs_k20_case_mod_pearson_result20.txt')"
   ]
  },
  {
   "cell_type": "markdown",
   "metadata": {},
   "source": [
    "# Item Based Collaborative Filtering"
   ]
  },
  {
   "cell_type": "code",
   "execution_count": 59,
   "metadata": {},
   "outputs": [
    {
     "name": "stdout",
     "output_type": "stream",
     "text": [
      "[[5 4 0 ... 4 1 5]\n",
      " [3 0 0 ... 0 0 4]\n",
      " [0 0 0 ... 0 0 0]\n",
      " ...\n",
      " [0 0 0 ... 0 0 0]\n",
      " [0 0 0 ... 0 0 0]\n",
      " [0 0 0 ... 0 0 0]]\n",
      "1000 200\n"
     ]
    }
   ],
   "source": [
    "item_based_arr = arr.copy()\n",
    "item_based_arr = item_based_arr.T\n",
    "\n",
    "print(item_based_arr)\n",
    "print(len(item_based_arr), len(item_based_arr[0]))"
   ]
  },
  {
   "cell_type": "code",
   "execution_count": 60,
   "metadata": {},
   "outputs": [],
   "source": [
    "'''\n",
    "Calculates the adjusted cosine similarity between two movies\n",
    "'''\n",
    "def adj_cos_sim(v1,v2,active_user_mean):\n",
    "    #print(v1, v2, active_user_mean)\n",
    "    v1_new = []\n",
    "    v2_new = []\n",
    "    numerator = 0\n",
    "    denominator = 0\n",
    "    counter = 0\n",
    "    for i in range(0,len(v1)):\n",
    "        if v1[i] != 0 and v2[i] != 0:\n",
    "            v1_new.append(v1[i])\n",
    "            v2_new.append(v2[i])\n",
    "            numerator += (v1[i] - active_user_mean) * (v2[i] - active_user_mean)\n",
    "            denominator += (math.sqrt(math.pow(v1[i]-active_user_mean,2)))*(math.sqrt(math.pow(v2[i]-active_user_mean,2)))\n",
    "            counter += 1\n",
    "    #print(\"NUM: \" + str(numerator) + \", DENOM: \" + str(denominator))\n",
    "    if(len(v1_new) == 0 and len(v2_new) == 0):\n",
    "        #print(\"NO COMMON USERS HAVE RATED THE MOVIE\\n\")\n",
    "        sim = 0\n",
    "        return sim\n",
    "    elif(len(v1_new) == 1 and len(v2_new) == 1):\n",
    "        euclidean_distance = np.linalg.norm(v1_new[0]-v2_new[0]);\n",
    "        sim = 1/(1+euclidean_distance)\n",
    "        return sim     \n",
    "    \n",
    "    if counter > 1:\n",
    "        if numerator == 0.0 and denominator == 0.0:\n",
    "            sim = 0 \n",
    "            return sim\n",
    "        sim = numerator/denominator\n",
    "    return sim"
   ]
  },
  {
   "cell_type": "code",
   "execution_count": 61,
   "metadata": {},
   "outputs": [],
   "source": [
    "test5_item_based_means = test5_pearson_means.copy()\n",
    "test10_item_based_means = test10_pearson_means.copy()\n",
    "test20_item_based_means = test20_pearson_means.copy()\n",
    "\n",
    "#print(test5_item_based_means)\n",
    "#print(test10_item_based_means)\n",
    "#print(test20_item_based_means)"
   ]
  },
  {
   "cell_type": "code",
   "execution_count": 62,
   "metadata": {},
   "outputs": [],
   "source": [
    "'''\n",
    "Creating a matrix with lists for each active user of the movies they have already rated.\n",
    "So dimensions for test5, test10, test20 are 100x5, 100x10, 100x20\n",
    "'''\n",
    "def create_list_rated_movies_test_users(num_ratings, test_file):\n",
    "    total_test_users_rated_movie_list = []\n",
    "    user_rated_movies = []\n",
    "    counter = 0\n",
    "    \n",
    "    for index,row in test_file.iterrows():\n",
    "        if row[2] == 0:\n",
    "            continue;\n",
    "\n",
    "        movie_id = row[1]-1\n",
    "        user_rated_movies.append((movie_id,row[2]))\n",
    "        counter += 1\n",
    "        if counter == num_ratings:\n",
    "            total_test_users_rated_movie_list.append(user_rated_movies)\n",
    "            counter = 0\n",
    "            user_rated_movies = []\n",
    "    return total_test_users_rated_movie_list\n",
    "\n",
    "test5_users_rated_movie_matrix = create_list_rated_movies_test_users(5, test5)\n",
    "test10_users_rated_movie_matrix = create_list_rated_movies_test_users(10, test10)\n",
    "test20_users_rated_movie_matrix = create_list_rated_movies_test_users(20, test20)"
   ]
  },
  {
   "cell_type": "code",
   "execution_count": 63,
   "metadata": {},
   "outputs": [],
   "source": [
    "'''\n",
    "Returns the indexes of the most similar movies in descending order\n",
    "'''\n",
    "def item_based_index_sorted(indexes, k):\n",
    "    val = np.argsort(indexes)[-k:]\n",
    "    val = val.tolist()\n",
    "    val.reverse()\n",
    "    return val"
   ]
  },
  {
   "cell_type": "code",
   "execution_count": 64,
   "metadata": {},
   "outputs": [],
   "source": [
    "'''\n",
    "Ranking function for item based CF\n",
    "'''\n",
    "def item_based_weighted_ranking(test_file, test_users_rated_movie_matrix, test5_item_based_means, item_based_arr, shift_index, k):\n",
    "    output = []\n",
    "    cos_sim_weights = []\n",
    "    total_cos_sim_weights = []\n",
    "    for index,row in test_file.iterrows():\n",
    "        counter = 0\n",
    "        weight = 0\n",
    "        numerator = 0\n",
    "        denominator = 0\n",
    "        if row[2] == 0:\n",
    "            #print(\"\\n\",row[0], row[1], row[2])\n",
    "            movie_id = row[0] - shift_index\n",
    "            #print(\"MOVIE_ID: \" + str(movie_id))\n",
    "            test_movie = row[1]-1\n",
    "            #print(\"TEST_MOVIE: \" + str(test_movie))\n",
    "            \n",
    "            #print(\"MEAN: \" + str(test5_item_based_means[movie_id]))\n",
    "            #print(\"ACTIVE USER RATED MOVIES: \" + str(test_users_rated_movie_matrix[movie_id]))\n",
    "            \n",
    "            for movie in test_users_rated_movie_matrix[movie_id]:\n",
    "                weight = adj_cos_sim(item_based_arr[movie[0]],item_based_arr[test_movie],test5_item_based_means[movie_id])\n",
    "                #print(\"WEIGHT: \" + str(weight))\n",
    "                cos_sim_weights.append(weight)\n",
    "                counter += 1\n",
    "            \n",
    "            sorted_indexes = item_based_index_sorted(cos_sim_weights, k)\n",
    "            #print(\"INDEX: \" + str(index))\n",
    "            #print(\"SORTED_INDEXES: \" + str(sorted_indexes))\n",
    "            #print(\"COS_SIM_WEIGHTS: \" + str(cos_sim_weights))\n",
    "            for i in range(k):\n",
    "                #print(\"SORTED_INDEXES[I]: \" + str(sorted_indexes[i]))\n",
    "                movie_ranking_tuple_list = test_users_rated_movie_matrix[movie_id]\n",
    "                #print(\"MOVIE[movie_id]: \" + str(movie_ranking_tuple_list))\n",
    "                #print(\"cos_sim_weights[sorted_indexes[i]]: \" + str(cos_sim_weights[sorted_indexes[i]]))\n",
    "                ranking = movie_ranking_tuple_list[sorted_indexes[i]][1]\n",
    "                if cos_sim_weights[i] > 0.3:\n",
    "                    #print(\"ranking: \" + str(movie_ranking_tuple_list[sorted_indexes[i]]) + str(ranking))\n",
    "                    numerator += (cos_sim_weights[sorted_indexes[i]] * ranking)\n",
    "                    #print(cos_sim_weights[sorted_indexes[i]])\n",
    "                    denominator += cos_sim_weights[sorted_indexes[i]]\n",
    "            \n",
    "            #print(\"NUMERATOR: \" + str(numerator) + \", DENOMINATOR: \" + str(denominator))\n",
    "            if denominator != 0.0:\n",
    "                final_rank = numerator/denominator\n",
    "                #print(\"FINAL_RANK: \" + str(final_rank))\n",
    "                if final_rank > 5:\n",
    "                    final_rank = 5\n",
    "                if final_rank < 1:\n",
    "                    final_rank = 1\n",
    "                final_rank = int(round(final_rank, 0))\n",
    "                line = [row[0], row[1], final_rank]\n",
    "                output.append(line)\n",
    "                line = [] \n",
    "            else:\n",
    "                line = [row[0], row[1], 3]\n",
    "                output.append(line)\n",
    "                line = [] \n",
    "            cos_sim_weights = []\n",
    "    return output "
   ]
  },
  {
   "cell_type": "code",
   "execution_count": 65,
   "metadata": {
    "scrolled": true
   },
   "outputs": [],
   "source": [
    "item_based_output5 = item_based_weighted_ranking(test5, test5_users_rated_movie_matrix, test5_item_based_means, item_based_arr, 201, 3)"
   ]
  },
  {
   "cell_type": "code",
   "execution_count": 66,
   "metadata": {},
   "outputs": [],
   "source": [
    "item_based_output10 = item_based_weighted_ranking(test10, test10_users_rated_movie_matrix, test10_item_based_means, item_based_arr, 301, 5)"
   ]
  },
  {
   "cell_type": "code",
   "execution_count": 67,
   "metadata": {},
   "outputs": [],
   "source": [
    "item_based_output20 = item_based_weighted_ranking(test20, test20_users_rated_movie_matrix, test20_item_based_means, item_based_arr, 401, 5)"
   ]
  },
  {
   "cell_type": "code",
   "execution_count": 68,
   "metadata": {},
   "outputs": [],
   "source": [
    "write_to_file(item_based_output5, 'threshold0.3_k3_item_based_result5.txt')\n",
    "write_to_file(item_based_output10, 'threshold0.3_k5_item_based_result10.txt')\n",
    "write_to_file(item_based_output20, 'threshold0.3_k5_item_based_result20.txt')"
   ]
  },
  {
   "cell_type": "markdown",
   "metadata": {},
   "source": [
    "# Own Algorithm"
   ]
  },
  {
   "cell_type": "code",
   "execution_count": 70,
   "metadata": {},
   "outputs": [],
   "source": [
    "'''\n",
    "Taking a weighted average of cosine similarity, pearson correlation, and pearson correlation with IUF ratings\n",
    "Below is my trial and error using different combinations of weights to find the best MAE\n",
    "'''\n",
    "def own_algo(cos_sim_output, pearson_output, iuf_pearson_output):  \n",
    "    output = []\n",
    "    for i in range(len(cos_sim_output)):\n",
    "\n",
    "        #algo1\n",
    "        #average = (cos_sim_output[i][2] + pearson_output[i][2] + iuf_pearson_output[i][2])/3  0.77\n",
    "        #algo3\n",
    "        #average = (cos_sim_output[i][2]*0.3) + (pearson_output[i][2]*0.3) + (iuf_pearson_output[i][2]*0.4) 0.78\n",
    "        #algo2\n",
    "        #average = (cos_sim_output[i][2]*0.2) + (pearson_output[i][2]*0.4) + (iuf_pearson_output[i][2]*0.4) 0.77\n",
    "        #algo4\n",
    "        #average = (cos_sim_output[i][2]*0.4) + (pearson_output[i][2]*0.2) + (iuf_pearson_output[i][2]*0.4) 0.769\n",
    "        #algo5: \n",
    "        #average = (cos_sim_output[i][2]*0.7) + (pearson_output[i][2]*0.1) + (iuf_pearson_output[i][2]*0.2) 0.778\n",
    "        #algo6: 0.769\n",
    "        average = (cos_sim_output[i][2]*0.5) + (pearson_output[i][2]*0.2) + (iuf_pearson_output[i][2]*0.3) \n",
    "        #algo7: \n",
    "        #average = (cos_sim_output[i][2]*0.6) + (pearson_output[i][2]*0.2) + (iuf_pearson_output[i][2]*0.2) 0.769\n",
    "        #algo8:\n",
    "        #average = (cos_sim_output[i][2]*0.65) + (pearson_output[i][2]*0.2) + (iuf_pearson_output[i][2]*0.15) 0.777\n",
    "        #algo9: close to algo3\n",
    "        #average = (cos_sim_output[i][2]*0.2) + (pearson_output[i][2]*0.3) + (iuf_pearson_output[i][2]*0.5)\n",
    "        #algo10: same as 11\n",
    "        #average = (cos_sim_output[i][2]*0.55) + (pearson_output[i][2]*0.2) + (iuf_pearson_output[i][2]*0.25)\n",
    "        #algo11: close to 5 and 7\n",
    "        #average = (cos_sim_output[i][2]*0.55) + (pearson_output[i][2]*0.25) + (iuf_pearson_output[i][2]*0.2)\n",
    "        #algo12: same as 7\n",
    "        #average = (cos_sim_output[i][2]*0.6) + (pearson_output[i][2]*0.25) + (iuf_pearson_output[i][2]*0.15)\n",
    "        #algo13\n",
    "        #average = (cos_sim_output[i][2]*0.45) + (pearson_output[i][2]*0.2) + (iuf_pearson_output[i][2]*0.35) 0.769\n",
    "        #algo14\n",
    "        #average = (cos_sim_output[i][2]*0.4) + (pearson_output[i][2]*0.3) + (iuf_pearson_output[i][2]*0.3)\n",
    "        #algo 15: possible submission\n",
    "        #average = (cos_sim_output[i][2]*0.8) + (pearson_output[i][2]*0.1) + (iuf_pearson_output[i][2]*0.1)\n",
    "        #algo 16: \n",
    "        #average = (cos_sim_output[i][2]*0.1) + (pearson_output[i][2]*0.1) + (iuf_pearson_output[i][2]*0.8)\n",
    "        \n",
    "        average = int(round(average, 0))\n",
    "        line = [cos_sim_output[i][0], cos_sim_output[i][1], average]\n",
    "        #print(\"LINE: \" + str(line) + \"\\n\")\n",
    "        output.append(line)\n",
    "        line = []\n",
    "    return output\n",
    "\n",
    "own_algo_output5 = own_algo(output5, pearson_output5, iuf_pearson_output5)\n",
    "own_algo_output10 = own_algo(output10, pearson_output10, iuf_pearson_output10)\n",
    "own_algo_output20 = own_algo(output20, pearson_output20, iuf_pearson_output20)"
   ]
  },
  {
   "cell_type": "code",
   "execution_count": 71,
   "metadata": {},
   "outputs": [],
   "source": [
    "#print(own_algo_output5)"
   ]
  },
  {
   "cell_type": "code",
   "execution_count": 72,
   "metadata": {},
   "outputs": [],
   "source": [
    "#print(own_algo_output10)"
   ]
  },
  {
   "cell_type": "code",
   "execution_count": 73,
   "metadata": {},
   "outputs": [],
   "source": [
    "#print(own_algo_output20)"
   ]
  },
  {
   "cell_type": "code",
   "execution_count": 74,
   "metadata": {},
   "outputs": [],
   "source": [
    "write_to_file(own_algo_output5, 'my_algo17_result5.txt')\n",
    "write_to_file(own_algo_output10, 'my_algo17_result10.txt')\n",
    "write_to_file(own_algo_output20, 'my_algo17_result20.txt')"
   ]
  },
  {
   "cell_type": "code",
   "execution_count": null,
   "metadata": {},
   "outputs": [],
   "source": []
  }
 ],
 "metadata": {
  "kernelspec": {
   "display_name": "Python 3",
   "language": "python",
   "name": "python3"
  },
  "language_info": {
   "codemirror_mode": {
    "name": "ipython",
    "version": 3
   },
   "file_extension": ".py",
   "mimetype": "text/x-python",
   "name": "python",
   "nbconvert_exporter": "python",
   "pygments_lexer": "ipython3",
   "version": "3.7.6"
  }
 },
 "nbformat": 4,
 "nbformat_minor": 4
}
